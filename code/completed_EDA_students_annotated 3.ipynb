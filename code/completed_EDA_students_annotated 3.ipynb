{
 "cells": [
  {
   "cell_type": "code",
   "execution_count": 4,
   "metadata": {},
   "outputs": [],
   "source": [
    "import pandas as pd\n",
    "import numpy as np\n",
    "pd.set_option('display.max_columns', None)\n",
    "import warnings\n",
    "warnings.filterwarnings('ignore')"
   ]
  },
  {
   "cell_type": "code",
   "execution_count": 5,
   "metadata": {},
   "outputs": [],
   "source": [
    "#load file with cleaned data using read_csv\n",
    "data = pd.read_csv('merged_clean_ver1.csv')"
   ]
  },
  {
   "cell_type": "code",
   "execution_count": 6,
   "metadata": {},
   "outputs": [
    {
     "data": {
      "text/html": [
       "<div>\n",
       "<style scoped>\n",
       "    .dataframe tbody tr th:only-of-type {\n",
       "        vertical-align: middle;\n",
       "    }\n",
       "\n",
       "    .dataframe tbody tr th {\n",
       "        vertical-align: top;\n",
       "    }\n",
       "\n",
       "    .dataframe thead th {\n",
       "        text-align: right;\n",
       "    }\n",
       "</style>\n",
       "<table border=\"1\" class=\"dataframe\">\n",
       "  <thead>\n",
       "    <tr style=\"text-align: right;\">\n",
       "      <th></th>\n",
       "      <th>id</th>\n",
       "      <th>state</th>\n",
       "      <th>gender</th>\n",
       "      <th>median_home_val</th>\n",
       "      <th>hvp1</th>\n",
       "      <th>pobc1</th>\n",
       "      <th>pobc2</th>\n",
       "      <th>avggift</th>\n",
       "      <th>target_d</th>\n",
       "      <th>median_household_income</th>\n",
       "      <th>ic2</th>\n",
       "      <th>ic3</th>\n",
       "      <th>ic4</th>\n",
       "      <th>ic5</th>\n",
       "      <th>ic2_</th>\n",
       "      <th>quantile_ic3</th>\n",
       "    </tr>\n",
       "  </thead>\n",
       "  <tbody>\n",
       "    <tr>\n",
       "      <th>0</th>\n",
       "      <td>44060</td>\n",
       "      <td>FL</td>\n",
       "      <td>Male</td>\n",
       "      <td>1158.286575</td>\n",
       "      <td>7</td>\n",
       "      <td>6</td>\n",
       "      <td>16</td>\n",
       "      <td>28</td>\n",
       "      <td>100.0</td>\n",
       "      <td>392</td>\n",
       "      <td>430.0</td>\n",
       "      <td>466</td>\n",
       "      <td>520.0</td>\n",
       "      <td>21975.0</td>\n",
       "      <td>Moderate</td>\n",
       "      <td>(365.0, 479.75]</td>\n",
       "    </tr>\n",
       "    <tr>\n",
       "      <th>1</th>\n",
       "      <td>96093</td>\n",
       "      <td>IL</td>\n",
       "      <td>Male</td>\n",
       "      <td>537.000000</td>\n",
       "      <td>0</td>\n",
       "      <td>1</td>\n",
       "      <td>89</td>\n",
       "      <td>5</td>\n",
       "      <td>7.0</td>\n",
       "      <td>365</td>\n",
       "      <td>415.0</td>\n",
       "      <td>410</td>\n",
       "      <td>473.0</td>\n",
       "      <td>19387.0</td>\n",
       "      <td>Moderate</td>\n",
       "      <td>(365.0, 479.75]</td>\n",
       "    </tr>\n",
       "    <tr>\n",
       "      <th>2</th>\n",
       "      <td>43333</td>\n",
       "      <td>FL</td>\n",
       "      <td>Female</td>\n",
       "      <td>725.000000</td>\n",
       "      <td>3</td>\n",
       "      <td>11</td>\n",
       "      <td>17</td>\n",
       "      <td>4</td>\n",
       "      <td>5.0</td>\n",
       "      <td>301</td>\n",
       "      <td>340.0</td>\n",
       "      <td>361</td>\n",
       "      <td>436.0</td>\n",
       "      <td>18837.0</td>\n",
       "      <td>Low</td>\n",
       "      <td>(287.0, 365.0]</td>\n",
       "    </tr>\n",
       "    <tr>\n",
       "      <th>3</th>\n",
       "      <td>21885</td>\n",
       "      <td>NC</td>\n",
       "      <td>Male</td>\n",
       "      <td>1158.286575</td>\n",
       "      <td>7</td>\n",
       "      <td>1</td>\n",
       "      <td>74</td>\n",
       "      <td>27</td>\n",
       "      <td>38.0</td>\n",
       "      <td>401</td>\n",
       "      <td>407.0</td>\n",
       "      <td>399</td>\n",
       "      <td>413.0</td>\n",
       "      <td>14014.0</td>\n",
       "      <td>Moderate</td>\n",
       "      <td>(365.0, 479.75]</td>\n",
       "    </tr>\n",
       "    <tr>\n",
       "      <th>4</th>\n",
       "      <td>190108</td>\n",
       "      <td>FL</td>\n",
       "      <td>Female</td>\n",
       "      <td>995.000000</td>\n",
       "      <td>0</td>\n",
       "      <td>5</td>\n",
       "      <td>6</td>\n",
       "      <td>6</td>\n",
       "      <td>5.0</td>\n",
       "      <td>252</td>\n",
       "      <td>280.0</td>\n",
       "      <td>316</td>\n",
       "      <td>348.0</td>\n",
       "      <td>17991.0</td>\n",
       "      <td>Low</td>\n",
       "      <td>(287.0, 365.0]</td>\n",
       "    </tr>\n",
       "  </tbody>\n",
       "</table>\n",
       "</div>"
      ],
      "text/plain": [
       "       id state  gender  median_home_val  hvp1  pobc1  pobc2  avggift  \\\n",
       "0   44060    FL    Male      1158.286575     7      6     16       28   \n",
       "1   96093    IL    Male       537.000000     0      1     89        5   \n",
       "2   43333    FL  Female       725.000000     3     11     17        4   \n",
       "3   21885    NC    Male      1158.286575     7      1     74       27   \n",
       "4  190108    FL  Female       995.000000     0      5      6        6   \n",
       "\n",
       "   target_d  median_household_income    ic2  ic3    ic4      ic5      ic2_  \\\n",
       "0     100.0                      392  430.0  466  520.0  21975.0  Moderate   \n",
       "1       7.0                      365  415.0  410  473.0  19387.0  Moderate   \n",
       "2       5.0                      301  340.0  361  436.0  18837.0       Low   \n",
       "3      38.0                      401  407.0  399  413.0  14014.0  Moderate   \n",
       "4       5.0                      252  280.0  316  348.0  17991.0       Low   \n",
       "\n",
       "      quantile_ic3  \n",
       "0  (365.0, 479.75]  \n",
       "1  (365.0, 479.75]  \n",
       "2   (287.0, 365.0]  \n",
       "3  (365.0, 479.75]  \n",
       "4   (287.0, 365.0]  "
      ]
     },
     "execution_count": 6,
     "metadata": {},
     "output_type": "execute_result"
    }
   ],
   "source": [
    "data.head()"
   ]
  },
  {
   "cell_type": "markdown",
   "metadata": {},
   "source": [
    "### Descriptive Statistics- basics"
   ]
  },
  {
   "cell_type": "raw",
   "metadata": {},
   "source": [
    "Measures of central tendency - Mean, median, mode\n",
    "Measures of spread / dispersion - SD, var, range, quartiles, percentiles\n",
    "Measures of frequency - Frequency\n",
    "Describe function using python"
   ]
  },
  {
   "cell_type": "code",
   "execution_count": 7,
   "metadata": {},
   "outputs": [
    {
     "data": {
      "text/html": [
       "<div>\n",
       "<style scoped>\n",
       "    .dataframe tbody tr th:only-of-type {\n",
       "        vertical-align: middle;\n",
       "    }\n",
       "\n",
       "    .dataframe tbody tr th {\n",
       "        vertical-align: top;\n",
       "    }\n",
       "\n",
       "    .dataframe thead th {\n",
       "        text-align: right;\n",
       "    }\n",
       "</style>\n",
       "<table border=\"1\" class=\"dataframe\">\n",
       "  <thead>\n",
       "    <tr style=\"text-align: right;\">\n",
       "      <th></th>\n",
       "      <th>id</th>\n",
       "      <th>median_home_val</th>\n",
       "      <th>hvp1</th>\n",
       "      <th>pobc1</th>\n",
       "      <th>pobc2</th>\n",
       "      <th>avggift</th>\n",
       "      <th>target_d</th>\n",
       "      <th>median_household_income</th>\n",
       "      <th>ic2</th>\n",
       "      <th>ic3</th>\n",
       "      <th>ic4</th>\n",
       "      <th>ic5</th>\n",
       "    </tr>\n",
       "  </thead>\n",
       "  <tbody>\n",
       "    <tr>\n",
       "      <th>count</th>\n",
       "      <td>3994.000000</td>\n",
       "      <td>3994.000000</td>\n",
       "      <td>3994.000000</td>\n",
       "      <td>3994.000000</td>\n",
       "      <td>3994.000000</td>\n",
       "      <td>3994.000000</td>\n",
       "      <td>3994.000000</td>\n",
       "      <td>3994.000000</td>\n",
       "      <td>3994.000000</td>\n",
       "      <td>3994.000000</td>\n",
       "      <td>3993.000000</td>\n",
       "      <td>3994.000000</td>\n",
       "    </tr>\n",
       "    <tr>\n",
       "      <th>mean</th>\n",
       "      <td>98914.900100</td>\n",
       "      <td>1158.286575</td>\n",
       "      <td>15.930396</td>\n",
       "      <td>6.863545</td>\n",
       "      <td>55.454181</td>\n",
       "      <td>11.402103</td>\n",
       "      <td>15.664119</td>\n",
       "      <td>351.614422</td>\n",
       "      <td>400.702554</td>\n",
       "      <td>399.856284</td>\n",
       "      <td>444.732031</td>\n",
       "      <td>16455.242614</td>\n",
       "    </tr>\n",
       "    <tr>\n",
       "      <th>std</th>\n",
       "      <td>58179.679261</td>\n",
       "      <td>1033.400320</td>\n",
       "      <td>28.824767</td>\n",
       "      <td>9.514572</td>\n",
       "      <td>21.500978</td>\n",
       "      <td>10.219433</td>\n",
       "      <td>12.701582</td>\n",
       "      <td>168.468186</td>\n",
       "      <td>180.547153</td>\n",
       "      <td>164.806947</td>\n",
       "      <td>175.004178</td>\n",
       "      <td>9454.423754</td>\n",
       "    </tr>\n",
       "    <tr>\n",
       "      <th>min</th>\n",
       "      <td>12.000000</td>\n",
       "      <td>0.000000</td>\n",
       "      <td>0.000000</td>\n",
       "      <td>0.000000</td>\n",
       "      <td>0.000000</td>\n",
       "      <td>2.000000</td>\n",
       "      <td>1.000000</td>\n",
       "      <td>0.000000</td>\n",
       "      <td>0.000000</td>\n",
       "      <td>0.000000</td>\n",
       "      <td>0.000000</td>\n",
       "      <td>0.000000</td>\n",
       "    </tr>\n",
       "    <tr>\n",
       "      <th>25%</th>\n",
       "      <td>46135.000000</td>\n",
       "      <td>548.250000</td>\n",
       "      <td>0.000000</td>\n",
       "      <td>1.000000</td>\n",
       "      <td>41.000000</td>\n",
       "      <td>7.000000</td>\n",
       "      <td>10.000000</td>\n",
       "      <td>239.000000</td>\n",
       "      <td>284.000000</td>\n",
       "      <td>287.000000</td>\n",
       "      <td>325.000000</td>\n",
       "      <td>11136.750000</td>\n",
       "    </tr>\n",
       "    <tr>\n",
       "      <th>50%</th>\n",
       "      <td>101411.000000</td>\n",
       "      <td>803.000000</td>\n",
       "      <td>1.000000</td>\n",
       "      <td>4.000000</td>\n",
       "      <td>57.000000</td>\n",
       "      <td>10.000000</td>\n",
       "      <td>14.000000</td>\n",
       "      <td>318.000000</td>\n",
       "      <td>366.000000</td>\n",
       "      <td>365.000000</td>\n",
       "      <td>410.000000</td>\n",
       "      <td>14355.000000</td>\n",
       "    </tr>\n",
       "    <tr>\n",
       "      <th>75%</th>\n",
       "      <td>151647.000000</td>\n",
       "      <td>1349.000000</td>\n",
       "      <td>14.000000</td>\n",
       "      <td>9.000000</td>\n",
       "      <td>73.000000</td>\n",
       "      <td>14.000000</td>\n",
       "      <td>20.000000</td>\n",
       "      <td>425.000000</td>\n",
       "      <td>477.750000</td>\n",
       "      <td>479.750000</td>\n",
       "      <td>528.000000</td>\n",
       "      <td>18779.250000</td>\n",
       "    </tr>\n",
       "    <tr>\n",
       "      <th>max</th>\n",
       "      <td>191779.000000</td>\n",
       "      <td>5982.000000</td>\n",
       "      <td>99.000000</td>\n",
       "      <td>79.000000</td>\n",
       "      <td>99.000000</td>\n",
       "      <td>450.000000</td>\n",
       "      <td>200.000000</td>\n",
       "      <td>1500.000000</td>\n",
       "      <td>1500.000000</td>\n",
       "      <td>1311.000000</td>\n",
       "      <td>1331.000000</td>\n",
       "      <td>174523.000000</td>\n",
       "    </tr>\n",
       "  </tbody>\n",
       "</table>\n",
       "</div>"
      ],
      "text/plain": [
       "                  id  median_home_val         hvp1        pobc1        pobc2  \\\n",
       "count    3994.000000      3994.000000  3994.000000  3994.000000  3994.000000   \n",
       "mean    98914.900100      1158.286575    15.930396     6.863545    55.454181   \n",
       "std     58179.679261      1033.400320    28.824767     9.514572    21.500978   \n",
       "min        12.000000         0.000000     0.000000     0.000000     0.000000   \n",
       "25%     46135.000000       548.250000     0.000000     1.000000    41.000000   \n",
       "50%    101411.000000       803.000000     1.000000     4.000000    57.000000   \n",
       "75%    151647.000000      1349.000000    14.000000     9.000000    73.000000   \n",
       "max    191779.000000      5982.000000    99.000000    79.000000    99.000000   \n",
       "\n",
       "           avggift     target_d  median_household_income          ic2  \\\n",
       "count  3994.000000  3994.000000              3994.000000  3994.000000   \n",
       "mean     11.402103    15.664119               351.614422   400.702554   \n",
       "std      10.219433    12.701582               168.468186   180.547153   \n",
       "min       2.000000     1.000000                 0.000000     0.000000   \n",
       "25%       7.000000    10.000000               239.000000   284.000000   \n",
       "50%      10.000000    14.000000               318.000000   366.000000   \n",
       "75%      14.000000    20.000000               425.000000   477.750000   \n",
       "max     450.000000   200.000000              1500.000000  1500.000000   \n",
       "\n",
       "               ic3          ic4            ic5  \n",
       "count  3994.000000  3993.000000    3994.000000  \n",
       "mean    399.856284   444.732031   16455.242614  \n",
       "std     164.806947   175.004178    9454.423754  \n",
       "min       0.000000     0.000000       0.000000  \n",
       "25%     287.000000   325.000000   11136.750000  \n",
       "50%     365.000000   410.000000   14355.000000  \n",
       "75%     479.750000   528.000000   18779.250000  \n",
       "max    1311.000000  1331.000000  174523.000000  "
      ]
     },
     "execution_count": 7,
     "metadata": {},
     "output_type": "execute_result"
    }
   ],
   "source": [
    "data.describe()\n",
    "# data.describe(include=[np.number])"
   ]
  },
  {
   "cell_type": "code",
   "execution_count": 8,
   "metadata": {},
   "outputs": [
    {
     "data": {
      "text/html": [
       "<div>\n",
       "<style scoped>\n",
       "    .dataframe tbody tr th:only-of-type {\n",
       "        vertical-align: middle;\n",
       "    }\n",
       "\n",
       "    .dataframe tbody tr th {\n",
       "        vertical-align: top;\n",
       "    }\n",
       "\n",
       "    .dataframe thead th {\n",
       "        text-align: right;\n",
       "    }\n",
       "</style>\n",
       "<table border=\"1\" class=\"dataframe\">\n",
       "  <thead>\n",
       "    <tr style=\"text-align: right;\">\n",
       "      <th></th>\n",
       "      <th>state</th>\n",
       "      <th>gender</th>\n",
       "      <th>ic2_</th>\n",
       "      <th>quantile_ic3</th>\n",
       "    </tr>\n",
       "  </thead>\n",
       "  <tbody>\n",
       "    <tr>\n",
       "      <th>count</th>\n",
       "      <td>3994</td>\n",
       "      <td>3994</td>\n",
       "      <td>3994</td>\n",
       "      <td>3994</td>\n",
       "    </tr>\n",
       "    <tr>\n",
       "      <th>unique</th>\n",
       "      <td>52</td>\n",
       "      <td>3</td>\n",
       "      <td>4</td>\n",
       "      <td>4</td>\n",
       "    </tr>\n",
       "    <tr>\n",
       "      <th>top</th>\n",
       "      <td>CA</td>\n",
       "      <td>Female</td>\n",
       "      <td>Low</td>\n",
       "      <td>(-0.001, 287.0]</td>\n",
       "    </tr>\n",
       "    <tr>\n",
       "      <th>freq</th>\n",
       "      <td>751</td>\n",
       "      <td>2277</td>\n",
       "      <td>2101</td>\n",
       "      <td>1010</td>\n",
       "    </tr>\n",
       "  </tbody>\n",
       "</table>\n",
       "</div>"
      ],
      "text/plain": [
       "       state  gender  ic2_     quantile_ic3\n",
       "count   3994    3994  3994             3994\n",
       "unique    52       3     4                4\n",
       "top       CA  Female   Low  (-0.001, 287.0]\n",
       "freq     751    2277  2101             1010"
      ]
     },
     "execution_count": 8,
     "metadata": {},
     "output_type": "execute_result"
    }
   ],
   "source": [
    "data.describe(include=[np.object])"
   ]
  },
  {
   "cell_type": "code",
   "execution_count": 9,
   "metadata": {},
   "outputs": [
    {
     "data": {
      "text/html": [
       "<div>\n",
       "<style scoped>\n",
       "    .dataframe tbody tr th:only-of-type {\n",
       "        vertical-align: middle;\n",
       "    }\n",
       "\n",
       "    .dataframe tbody tr th {\n",
       "        vertical-align: top;\n",
       "    }\n",
       "\n",
       "    .dataframe thead th {\n",
       "        text-align: right;\n",
       "    }\n",
       "</style>\n",
       "<table border=\"1\" class=\"dataframe\">\n",
       "  <thead>\n",
       "    <tr style=\"text-align: right;\">\n",
       "      <th></th>\n",
       "      <th>count</th>\n",
       "      <th>mean</th>\n",
       "      <th>std</th>\n",
       "      <th>min</th>\n",
       "      <th>25%</th>\n",
       "      <th>50%</th>\n",
       "      <th>75%</th>\n",
       "      <th>max</th>\n",
       "      <th>iqr</th>\n",
       "    </tr>\n",
       "  </thead>\n",
       "  <tbody>\n",
       "    <tr>\n",
       "      <th>id</th>\n",
       "      <td>3994.0</td>\n",
       "      <td>98914.900100</td>\n",
       "      <td>58179.679261</td>\n",
       "      <td>12.0</td>\n",
       "      <td>46135.00</td>\n",
       "      <td>101411.0</td>\n",
       "      <td>151647.00</td>\n",
       "      <td>191779.0</td>\n",
       "      <td>105512.00</td>\n",
       "    </tr>\n",
       "    <tr>\n",
       "      <th>median_home_val</th>\n",
       "      <td>3994.0</td>\n",
       "      <td>1158.286575</td>\n",
       "      <td>1033.400320</td>\n",
       "      <td>0.0</td>\n",
       "      <td>548.25</td>\n",
       "      <td>803.0</td>\n",
       "      <td>1349.00</td>\n",
       "      <td>5982.0</td>\n",
       "      <td>800.75</td>\n",
       "    </tr>\n",
       "    <tr>\n",
       "      <th>hvp1</th>\n",
       "      <td>3994.0</td>\n",
       "      <td>15.930396</td>\n",
       "      <td>28.824767</td>\n",
       "      <td>0.0</td>\n",
       "      <td>0.00</td>\n",
       "      <td>1.0</td>\n",
       "      <td>14.00</td>\n",
       "      <td>99.0</td>\n",
       "      <td>14.00</td>\n",
       "    </tr>\n",
       "    <tr>\n",
       "      <th>pobc1</th>\n",
       "      <td>3994.0</td>\n",
       "      <td>6.863545</td>\n",
       "      <td>9.514572</td>\n",
       "      <td>0.0</td>\n",
       "      <td>1.00</td>\n",
       "      <td>4.0</td>\n",
       "      <td>9.00</td>\n",
       "      <td>79.0</td>\n",
       "      <td>8.00</td>\n",
       "    </tr>\n",
       "    <tr>\n",
       "      <th>pobc2</th>\n",
       "      <td>3994.0</td>\n",
       "      <td>55.454181</td>\n",
       "      <td>21.500978</td>\n",
       "      <td>0.0</td>\n",
       "      <td>41.00</td>\n",
       "      <td>57.0</td>\n",
       "      <td>73.00</td>\n",
       "      <td>99.0</td>\n",
       "      <td>32.00</td>\n",
       "    </tr>\n",
       "    <tr>\n",
       "      <th>avggift</th>\n",
       "      <td>3994.0</td>\n",
       "      <td>11.402103</td>\n",
       "      <td>10.219433</td>\n",
       "      <td>2.0</td>\n",
       "      <td>7.00</td>\n",
       "      <td>10.0</td>\n",
       "      <td>14.00</td>\n",
       "      <td>450.0</td>\n",
       "      <td>7.00</td>\n",
       "    </tr>\n",
       "    <tr>\n",
       "      <th>target_d</th>\n",
       "      <td>3994.0</td>\n",
       "      <td>15.664119</td>\n",
       "      <td>12.701582</td>\n",
       "      <td>1.0</td>\n",
       "      <td>10.00</td>\n",
       "      <td>14.0</td>\n",
       "      <td>20.00</td>\n",
       "      <td>200.0</td>\n",
       "      <td>10.00</td>\n",
       "    </tr>\n",
       "    <tr>\n",
       "      <th>median_household_income</th>\n",
       "      <td>3994.0</td>\n",
       "      <td>351.614422</td>\n",
       "      <td>168.468186</td>\n",
       "      <td>0.0</td>\n",
       "      <td>239.00</td>\n",
       "      <td>318.0</td>\n",
       "      <td>425.00</td>\n",
       "      <td>1500.0</td>\n",
       "      <td>186.00</td>\n",
       "    </tr>\n",
       "    <tr>\n",
       "      <th>ic2</th>\n",
       "      <td>3994.0</td>\n",
       "      <td>400.702554</td>\n",
       "      <td>180.547153</td>\n",
       "      <td>0.0</td>\n",
       "      <td>284.00</td>\n",
       "      <td>366.0</td>\n",
       "      <td>477.75</td>\n",
       "      <td>1500.0</td>\n",
       "      <td>193.75</td>\n",
       "    </tr>\n",
       "    <tr>\n",
       "      <th>ic3</th>\n",
       "      <td>3994.0</td>\n",
       "      <td>399.856284</td>\n",
       "      <td>164.806947</td>\n",
       "      <td>0.0</td>\n",
       "      <td>287.00</td>\n",
       "      <td>365.0</td>\n",
       "      <td>479.75</td>\n",
       "      <td>1311.0</td>\n",
       "      <td>192.75</td>\n",
       "    </tr>\n",
       "    <tr>\n",
       "      <th>ic4</th>\n",
       "      <td>3993.0</td>\n",
       "      <td>444.732031</td>\n",
       "      <td>175.004178</td>\n",
       "      <td>0.0</td>\n",
       "      <td>325.00</td>\n",
       "      <td>410.0</td>\n",
       "      <td>528.00</td>\n",
       "      <td>1331.0</td>\n",
       "      <td>203.00</td>\n",
       "    </tr>\n",
       "    <tr>\n",
       "      <th>ic5</th>\n",
       "      <td>3994.0</td>\n",
       "      <td>16455.242614</td>\n",
       "      <td>9454.423754</td>\n",
       "      <td>0.0</td>\n",
       "      <td>11136.75</td>\n",
       "      <td>14355.0</td>\n",
       "      <td>18779.25</td>\n",
       "      <td>174523.0</td>\n",
       "      <td>7642.50</td>\n",
       "    </tr>\n",
       "  </tbody>\n",
       "</table>\n",
       "</div>"
      ],
      "text/plain": [
       "                          count          mean           std   min       25%  \\\n",
       "id                       3994.0  98914.900100  58179.679261  12.0  46135.00   \n",
       "median_home_val          3994.0   1158.286575   1033.400320   0.0    548.25   \n",
       "hvp1                     3994.0     15.930396     28.824767   0.0      0.00   \n",
       "pobc1                    3994.0      6.863545      9.514572   0.0      1.00   \n",
       "pobc2                    3994.0     55.454181     21.500978   0.0     41.00   \n",
       "avggift                  3994.0     11.402103     10.219433   2.0      7.00   \n",
       "target_d                 3994.0     15.664119     12.701582   1.0     10.00   \n",
       "median_household_income  3994.0    351.614422    168.468186   0.0    239.00   \n",
       "ic2                      3994.0    400.702554    180.547153   0.0    284.00   \n",
       "ic3                      3994.0    399.856284    164.806947   0.0    287.00   \n",
       "ic4                      3993.0    444.732031    175.004178   0.0    325.00   \n",
       "ic5                      3994.0  16455.242614   9454.423754   0.0  11136.75   \n",
       "\n",
       "                              50%        75%       max        iqr  \n",
       "id                       101411.0  151647.00  191779.0  105512.00  \n",
       "median_home_val             803.0    1349.00    5982.0     800.75  \n",
       "hvp1                          1.0      14.00      99.0      14.00  \n",
       "pobc1                         4.0       9.00      79.0       8.00  \n",
       "pobc2                        57.0      73.00      99.0      32.00  \n",
       "avggift                      10.0      14.00     450.0       7.00  \n",
       "target_d                     14.0      20.00     200.0      10.00  \n",
       "median_household_income     318.0     425.00    1500.0     186.00  \n",
       "ic2                         366.0     477.75    1500.0     193.75  \n",
       "ic3                         365.0     479.75    1311.0     192.75  \n",
       "ic4                         410.0     528.00    1331.0     203.00  \n",
       "ic5                       14355.0   18779.25  174523.0    7642.50  "
      ]
     },
     "execution_count": 9,
     "metadata": {},
     "output_type": "execute_result"
    }
   ],
   "source": [
    "#make a statistics summary df with transpose\n",
    "summary = data.describe().T\n",
    "#calculate the interquartile range as a new column\n",
    "summary['iqr'] = summary['75%']-summary['25%']\n",
    "summary"
   ]
  },
  {
   "cell_type": "markdown",
   "metadata": {},
   "source": [
    "### Exploratory data analysis using matplotlib"
   ]
  },
  {
   "cell_type": "code",
   "execution_count": 10,
   "metadata": {},
   "outputs": [],
   "source": [
    "import matplotlib.pyplot as plt\n",
    "import seaborn as sns\n",
    "%matplotlib inline"
   ]
  },
  {
   "cell_type": "code",
   "execution_count": 11,
   "metadata": {},
   "outputs": [
    {
     "data": {
      "image/png": "[encoded data removed]",
      "text/plain": [
       "<Figure size 432x288 with 1 Axes>"
      ]
     },
     "metadata": {
      "needs_background": "light"
     },
     "output_type": "display_data"
    }
   ],
   "source": [
    "plt.scatter(x=data['ic5'], y=data['avggift'])\n",
    "plt.show()"
   ]
  },
  {
   "cell_type": "code",
   "execution_count": 12,
   "metadata": {},
   "outputs": [
    {
     "data": {
      "image/png": "[encoded data removed]",
      "text/plain": [
       "<Figure size 432x288 with 1 Axes>"
      ]
     },
     "metadata": {
      "needs_background": "light"
     },
     "output_type": "display_data"
    }
   ],
   "source": [
    "data['median_home_val'].hist()\n",
    "plt.show()"
   ]
  },
  {
   "cell_type": "code",
   "execution_count": 13,
   "metadata": {},
   "outputs": [
    {
     "data": {
      "image/png": "[encoded data removed]",
      "text/plain": [
       "<Figure size 432x288 with 1 Axes>"
      ]
     },
     "metadata": {
      "needs_background": "light"
     },
     "output_type": "display_data"
    }
   ],
   "source": [
    "data['median_home_val'].hist(bins=40)\n",
    "plt.show()"
   ]
  },
  {
   "cell_type": "code",
   "execution_count": 14,
   "metadata": {},
   "outputs": [
    {
     "data": {
      "image/png": "[encoded data removed]",
      "text/plain": [
       "<Figure size 432x288 with 1 Axes>"
      ]
     },
     "metadata": {
      "needs_background": "light"
     },
     "output_type": "display_data"
    }
   ],
   "source": [
    "sns.distplot(data['median_home_val'], bins=20)\n",
    "plt.show()"
   ]
  },
  {
   "cell_type": "code",
   "execution_count": 15,
   "metadata": {},
   "outputs": [
    {
     "data": {
      "image/png": "[encoded data removed]",
      "text/plain": [
       "<Figure size 432x288 with 1 Axes>"
      ]
     },
     "metadata": {
      "needs_background": "light"
     },
     "output_type": "display_data"
    }
   ],
   "source": [
    "data[['median_home_val']].boxplot()\n",
    "plt.show()"
   ]
  },
  {
   "cell_type": "code",
   "execution_count": 16,
   "metadata": {},
   "outputs": [
    {
     "data": {
      "image/png": "[encoded data removed]",
      "text/plain": [
       "<Figure size 432x288 with 1 Axes>"
      ]
     },
     "metadata": {
      "needs_background": "light"
     },
     "output_type": "display_data"
    }
   ],
   "source": [
    "sns.boxplot(y=\"median_home_val\", data=data)\n",
    "plt.show()"
   ]
  },
  {
   "cell_type": "code",
   "execution_count": 17,
   "metadata": {},
   "outputs": [
    {
     "data": {
      "image/png": "[encoded data removed]",
      "text/plain": [
       "<Figure size 432x288 with 1 Axes>"
      ]
     },
     "metadata": {
      "needs_background": "light"
     },
     "output_type": "display_data"
    }
   ],
   "source": [
    "sns.boxplot(x = 'gender',y='median_home_val', data=data)\n",
    "plt.show()"
   ]
  },
  {
   "cell_type": "code",
   "execution_count": 18,
   "metadata": {},
   "outputs": [
    {
     "data": {
      "image/png": "[encoded data removed]",
      "text/plain": [
       "<Figure size 432x288 with 1 Axes>"
      ]
     },
     "metadata": {
      "needs_background": "light"
     },
     "output_type": "display_data"
    }
   ],
   "source": [
    "sns.barplot(x=\"gender\", y=\"median_home_val\", data=data)\n",
    "plt.show()"
   ]
  },
  {
   "cell_type": "code",
   "execution_count": null,
   "metadata": {},
   "outputs": [],
   "source": []
  },
  {
   "cell_type": "markdown",
   "metadata": {},
   "source": [
    "### Correlation"
   ]
  },
  {
   "cell_type": "code",
   "execution_count": 19,
   "metadata": {},
   "outputs": [
    {
     "data": {
      "image/png": "[encoded data removed]",
      "text/plain": [
       "<Figure size 432x288 with 1 Axes>"
      ]
     },
     "metadata": {
      "needs_background": "light"
     },
     "output_type": "display_data"
    }
   ],
   "source": [
    "#review correlation of two selected variables \n",
    "plt.scatter(x=data['ic2'], y=data['ic3'])\n",
    "plt.show()"
   ]
  },
  {
   "cell_type": "code",
   "execution_count": 20,
   "metadata": {},
   "outputs": [],
   "source": [
    "#bring in the scipy library - The scientific python library\n",
    "# an open-source Python library which is used to solve scientific and mathematical problems. \n",
    "# It is built on the NumPy extension and allows the user to manipulate and visualize data.\n",
    "import scipy.stats as stats"
   ]
  },
  {
   "cell_type": "code",
   "execution_count": 21,
   "metadata": {},
   "outputs": [
    {
     "data": {
      "text/plain": [
       "(0.9535793251204261, 0.0)"
      ]
     },
     "execution_count": 21,
     "metadata": {},
     "output_type": "execute_result"
    }
   ],
   "source": [
    "x=data['ic2']\n",
    "y=data['ic3']\n",
    "stats.pearsonr(x, y) # gives correlation coefficient and the p value "
   ]
  },
  {
   "cell_type": "code",
   "execution_count": 22,
   "metadata": {},
   "outputs": [
    {
     "data": {
      "text/plain": [
       "SpearmanrResult(correlation=0.9510359736169883, pvalue=0.0)"
      ]
     },
     "execution_count": 22,
     "metadata": {},
     "output_type": "execute_result"
    }
   ],
   "source": [
    "stats.spearmanr(x, y)"
   ]
  },
  {
   "cell_type": "code",
   "execution_count": 23,
   "metadata": {},
   "outputs": [
    {
     "data": {
      "text/plain": [
       "KendalltauResult(correlation=0.8254103909775706, pvalue=0.0)"
      ]
     },
     "execution_count": 23,
     "metadata": {},
     "output_type": "execute_result"
    }
   ],
   "source": [
    "stats.kendalltau(x, y)"
   ]
  },
  {
   "cell_type": "code",
   "execution_count": 24,
   "metadata": {},
   "outputs": [
    {
     "data": {
      "text/html": [
       "<div>\n",
       "<style scoped>\n",
       "    .dataframe tbody tr th:only-of-type {\n",
       "        vertical-align: middle;\n",
       "    }\n",
       "\n",
       "    .dataframe tbody tr th {\n",
       "        vertical-align: top;\n",
       "    }\n",
       "\n",
       "    .dataframe thead th {\n",
       "        text-align: right;\n",
       "    }\n",
       "</style>\n",
       "<table border=\"1\" class=\"dataframe\">\n",
       "  <thead>\n",
       "    <tr style=\"text-align: right;\">\n",
       "      <th></th>\n",
       "      <th>median_home_val</th>\n",
       "      <th>hvp1</th>\n",
       "      <th>pobc1</th>\n",
       "      <th>pobc2</th>\n",
       "      <th>avggift</th>\n",
       "      <th>target_d</th>\n",
       "      <th>median_household_income</th>\n",
       "      <th>ic2</th>\n",
       "      <th>ic3</th>\n",
       "      <th>ic4</th>\n",
       "      <th>ic5</th>\n",
       "    </tr>\n",
       "  </thead>\n",
       "  <tbody>\n",
       "    <tr>\n",
       "      <th>median_home_val</th>\n",
       "      <td>1.000000</td>\n",
       "      <td>0.925146</td>\n",
       "      <td>0.428397</td>\n",
       "      <td>-0.297105</td>\n",
       "      <td>0.139264</td>\n",
       "      <td>0.116841</td>\n",
       "      <td>0.707205</td>\n",
       "      <td>0.743315</td>\n",
       "      <td>0.734544</td>\n",
       "      <td>0.748761</td>\n",
       "      <td>0.745241</td>\n",
       "    </tr>\n",
       "    <tr>\n",
       "      <th>hvp1</th>\n",
       "      <td>0.925146</td>\n",
       "      <td>1.000000</td>\n",
       "      <td>0.424981</td>\n",
       "      <td>-0.261078</td>\n",
       "      <td>0.128645</td>\n",
       "      <td>0.105438</td>\n",
       "      <td>0.611131</td>\n",
       "      <td>0.637037</td>\n",
       "      <td>0.647877</td>\n",
       "      <td>0.656722</td>\n",
       "      <td>0.628138</td>\n",
       "    </tr>\n",
       "    <tr>\n",
       "      <th>pobc1</th>\n",
       "      <td>0.428397</td>\n",
       "      <td>0.424981</td>\n",
       "      <td>1.000000</td>\n",
       "      <td>-0.390109</td>\n",
       "      <td>0.069040</td>\n",
       "      <td>0.039139</td>\n",
       "      <td>0.166611</td>\n",
       "      <td>0.167175</td>\n",
       "      <td>0.186662</td>\n",
       "      <td>0.179921</td>\n",
       "      <td>0.165818</td>\n",
       "    </tr>\n",
       "    <tr>\n",
       "      <th>pobc2</th>\n",
       "      <td>-0.297105</td>\n",
       "      <td>-0.261078</td>\n",
       "      <td>-0.390109</td>\n",
       "      <td>1.000000</td>\n",
       "      <td>-0.075860</td>\n",
       "      <td>-0.072210</td>\n",
       "      <td>-0.149703</td>\n",
       "      <td>-0.162401</td>\n",
       "      <td>-0.177378</td>\n",
       "      <td>-0.187705</td>\n",
       "      <td>-0.248284</td>\n",
       "    </tr>\n",
       "    <tr>\n",
       "      <th>avggift</th>\n",
       "      <td>0.139264</td>\n",
       "      <td>0.128645</td>\n",
       "      <td>0.069040</td>\n",
       "      <td>-0.075860</td>\n",
       "      <td>1.000000</td>\n",
       "      <td>0.487483</td>\n",
       "      <td>0.121086</td>\n",
       "      <td>0.136900</td>\n",
       "      <td>0.126144</td>\n",
       "      <td>0.133296</td>\n",
       "      <td>0.142096</td>\n",
       "    </tr>\n",
       "    <tr>\n",
       "      <th>target_d</th>\n",
       "      <td>0.116841</td>\n",
       "      <td>0.105438</td>\n",
       "      <td>0.039139</td>\n",
       "      <td>-0.072210</td>\n",
       "      <td>0.487483</td>\n",
       "      <td>1.000000</td>\n",
       "      <td>0.113259</td>\n",
       "      <td>0.129979</td>\n",
       "      <td>0.121995</td>\n",
       "      <td>0.131260</td>\n",
       "      <td>0.137908</td>\n",
       "    </tr>\n",
       "    <tr>\n",
       "      <th>median_household_income</th>\n",
       "      <td>0.707205</td>\n",
       "      <td>0.611131</td>\n",
       "      <td>0.166611</td>\n",
       "      <td>-0.149703</td>\n",
       "      <td>0.121086</td>\n",
       "      <td>0.113259</td>\n",
       "      <td>1.000000</td>\n",
       "      <td>0.951409</td>\n",
       "      <td>0.974768</td>\n",
       "      <td>0.928980</td>\n",
       "      <td>0.805217</td>\n",
       "    </tr>\n",
       "    <tr>\n",
       "      <th>ic2</th>\n",
       "      <td>0.743315</td>\n",
       "      <td>0.637037</td>\n",
       "      <td>0.167175</td>\n",
       "      <td>-0.162401</td>\n",
       "      <td>0.136900</td>\n",
       "      <td>0.129979</td>\n",
       "      <td>0.951409</td>\n",
       "      <td>1.000000</td>\n",
       "      <td>0.953579</td>\n",
       "      <td>0.971498</td>\n",
       "      <td>0.874779</td>\n",
       "    </tr>\n",
       "    <tr>\n",
       "      <th>ic3</th>\n",
       "      <td>0.734544</td>\n",
       "      <td>0.647877</td>\n",
       "      <td>0.186662</td>\n",
       "      <td>-0.177378</td>\n",
       "      <td>0.126144</td>\n",
       "      <td>0.121995</td>\n",
       "      <td>0.974768</td>\n",
       "      <td>0.953579</td>\n",
       "      <td>1.000000</td>\n",
       "      <td>0.971909</td>\n",
       "      <td>0.827524</td>\n",
       "    </tr>\n",
       "    <tr>\n",
       "      <th>ic4</th>\n",
       "      <td>0.748761</td>\n",
       "      <td>0.656722</td>\n",
       "      <td>0.179921</td>\n",
       "      <td>-0.187705</td>\n",
       "      <td>0.133296</td>\n",
       "      <td>0.131260</td>\n",
       "      <td>0.928980</td>\n",
       "      <td>0.971498</td>\n",
       "      <td>0.971909</td>\n",
       "      <td>1.000000</td>\n",
       "      <td>0.868411</td>\n",
       "    </tr>\n",
       "    <tr>\n",
       "      <th>ic5</th>\n",
       "      <td>0.745241</td>\n",
       "      <td>0.628138</td>\n",
       "      <td>0.165818</td>\n",
       "      <td>-0.248284</td>\n",
       "      <td>0.142096</td>\n",
       "      <td>0.137908</td>\n",
       "      <td>0.805217</td>\n",
       "      <td>0.874779</td>\n",
       "      <td>0.827524</td>\n",
       "      <td>0.868411</td>\n",
       "      <td>1.000000</td>\n",
       "    </tr>\n",
       "  </tbody>\n",
       "</table>\n",
       "</div>"
      ],
      "text/plain": [
       "                         median_home_val      hvp1     pobc1     pobc2  \\\n",
       "median_home_val                 1.000000  0.925146  0.428397 -0.297105   \n",
       "hvp1                            0.925146  1.000000  0.424981 -0.261078   \n",
       "pobc1                           0.428397  0.424981  1.000000 -0.390109   \n",
       "pobc2                          -0.297105 -0.261078 -0.390109  1.000000   \n",
       "avggift                         0.139264  0.128645  0.069040 -0.075860   \n",
       "target_d                        0.116841  0.105438  0.039139 -0.072210   \n",
       "median_household_income         0.707205  0.611131  0.166611 -0.149703   \n",
       "ic2                             0.743315  0.637037  0.167175 -0.162401   \n",
       "ic3                             0.734544  0.647877  0.186662 -0.177378   \n",
       "ic4                             0.748761  0.656722  0.179921 -0.187705   \n",
       "ic5                             0.745241  0.628138  0.165818 -0.248284   \n",
       "\n",
       "                          avggift  target_d  median_household_income  \\\n",
       "median_home_val          0.139264  0.116841                 0.707205   \n",
       "hvp1                     0.128645  0.105438                 0.611131   \n",
       "pobc1                    0.069040  0.039139                 0.166611   \n",
       "pobc2                   -0.075860 -0.072210                -0.149703   \n",
       "avggift                  1.000000  0.487483                 0.121086   \n",
       "target_d                 0.487483  1.000000                 0.113259   \n",
       "median_household_income  0.121086  0.113259                 1.000000   \n",
       "ic2                      0.136900  0.129979                 0.951409   \n",
       "ic3                      0.126144  0.121995                 0.974768   \n",
       "ic4                      0.133296  0.131260                 0.928980   \n",
       "ic5                      0.142096  0.137908                 0.805217   \n",
       "\n",
       "                              ic2       ic3       ic4       ic5  \n",
       "median_home_val          0.743315  0.734544  0.748761  0.745241  \n",
       "hvp1                     0.637037  0.647877  0.656722  0.628138  \n",
       "pobc1                    0.167175  0.186662  0.179921  0.165818  \n",
       "pobc2                   -0.162401 -0.177378 -0.187705 -0.248284  \n",
       "avggift                  0.136900  0.126144  0.133296  0.142096  \n",
       "target_d                 0.129979  0.121995  0.131260  0.137908  \n",
       "median_household_income  0.951409  0.974768  0.928980  0.805217  \n",
       "ic2                      1.000000  0.953579  0.971498  0.874779  \n",
       "ic3                      0.953579  1.000000  0.971909  0.827524  \n",
       "ic4                      0.971498  0.971909  1.000000  0.868411  \n",
       "ic5                      0.874779  0.827524  0.868411  1.000000  "
      ]
     },
     "execution_count": 24,
     "metadata": {},
     "output_type": "execute_result"
    }
   ],
   "source": [
    "#create a correlation matrix of numerical columns \n",
    "\n",
    "corr_data = data.drop(['id','state', 'gender'], axis=1)\n",
    "correlations_matrix = corr_data.corr()\n",
    "correlations_matrix"
   ]
  },
  {
   "cell_type": "code",
   "execution_count": 25,
   "metadata": {},
   "outputs": [
    {
     "data": {
      "image/png": "[encoded data removed]",
      "text/plain": [
       "<Figure size 432x288 with 2 Axes>"
      ]
     },
     "metadata": {
      "needs_background": "light"
     },
     "output_type": "display_data"
    }
   ],
   "source": [
    "#create a heatmap \n",
    "sns.heatmap(correlations_matrix, annot=True)\n",
    "plt.show()"
   ]
  },
  {
   "cell_type": "code",
   "execution_count": 26,
   "metadata": {},
   "outputs": [
    {
     "data": {
      "image/png": "[encoded data removed]",
      "text/plain": [
       "<Figure size 720x576 with 2 Axes>"
      ]
     },
     "metadata": {
      "needs_background": "light"
     },
     "output_type": "display_data"
    }
   ],
   "source": [
    "#use the mask technique to make it easier to read \n",
    "mask = np.zeros_like(correlations_matrix)\n",
    "mask[np.triu_indices_from(mask)] = True\n",
    "fig, ax = plt.subplots(figsize=(10, 8))\n",
    "ax = sns.heatmap(correlations_matrix, mask=mask, annot=True)\n",
    "plt.show()"
   ]
  },
  {
   "cell_type": "code",
   "execution_count": null,
   "metadata": {},
   "outputs": [],
   "source": []
  }
 ],
 "metadata": {
  "kernelspec": {
   "display_name": "Python 3",
   "language": "python",
   "name": "python3"
  },
  "language_info": {
   "codemirror_mode": {
    "name": "ipython",
    "version": 3
   },
   "file_extension": ".py",
   "mimetype": "text/x-python",
   "name": "python",
   "nbconvert_exporter": "python",
   "pygments_lexer": "ipython3",
   "version": "3.8.3"
  }
 },
 "nbformat": 4,
 "nbformat_minor": 2
}
